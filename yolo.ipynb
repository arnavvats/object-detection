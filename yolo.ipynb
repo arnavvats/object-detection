{
  "nbformat": 4,
  "nbformat_minor": 0,
  "metadata": {
    "colab": {
      "name": "yolo.ipynb",
      "version": "0.3.2",
      "provenance": [],
      "include_colab_link": true
    },
    "kernelspec": {
      "name": "python3",
      "display_name": "Python 3"
    }
  },
  "cells": [
    {
      "cell_type": "markdown",
      "metadata": {
        "id": "view-in-github",
        "colab_type": "text"
      },
      "source": [
        "<a href=\"https://colab.research.google.com/github/arnavvats/object-detection/blob/master/yolo.ipynb\" target=\"_parent\"><img src=\"https://colab.research.google.com/assets/colab-badge.svg\" alt=\"Open In Colab\"/></a>"
      ]
    },
    {
      "cell_type": "code",
      "metadata": {
        "id": "5n9U19EYxgw_",
        "colab_type": "code",
        "colab": {
          "base_uri": "https://localhost:8080/",
          "height": 101
        },
        "outputId": "55e90b53-0a91-43d9-f669-56c2ddaa22e8"
      },
      "source": [
        "!git clone https://github.com/allanzelener/yad2k.git\n",
        "!curl -O https://raw.githubusercontent.com/enggen/Deep-Learning-Coursera/master/Convolutional%20Neural%20Networks/Week3/Car%20detection%20for%20Autonomous%20Driving/images/0001.jpg\n",
        "  "
      ],
      "execution_count": 7,
      "outputs": [
        {
          "output_type": "stream",
          "text": [
            "Cloning into 'yad2k'...\n",
            "remote: Enumerating objects: 243, done.\u001b[K\n",
            "remote: Total 243 (delta 0), reused 0 (delta 0), pack-reused 243\u001b[K\n",
            "Receiving objects: 100% (243/243), 2.35 MiB | 6.52 MiB/s, done.\n",
            "Resolving deltas: 100% (106/106), done.\n"
          ],
          "name": "stdout"
        }
      ]
    },
    {
      "cell_type": "code",
      "metadata": {
        "id": "XwJ47jXbwVOB",
        "colab_type": "code",
        "colab": {}
      },
      "source": [
        "import argparse\n",
        "import os\n",
        "import matplotlib.pyplot as plt\n",
        "from matplotlib.pyplot import imshow\n",
        "import scipy.io\n",
        "import scipy.misc\n",
        "import numpy as np\n",
        "import pandas as pd\n",
        "import PIL\n",
        "import tensorflow as tf\n",
        "from keras import backend as K\n",
        "from keras.layers import Input, Lambda, Conv2D\n",
        "from keras.models import load_model, Model\n"
      ],
      "execution_count": 0,
      "outputs": []
    },
    {
      "cell_type": "code",
      "metadata": {
        "id": "rr3yIlsFwl1b",
        "colab_type": "code",
        "colab": {}
      },
      "source": [
        "import colorsys\n",
        "import imghdr\n",
        "import os\n",
        "import random\n",
        "from keras import backend as K\n",
        "\n",
        "import numpy as np\n",
        "from PIL import Image, ImageDraw, ImageFont\n",
        "\n",
        "def read_classes(classes_path):\n",
        "  with open(classes_path) as f:\n",
        "    class_names = f.readlines()\n",
        "  class_names = [c.strip() for c in class_names]\n",
        "  return class_names\n",
        "\n",
        "def read_anchors(anchors_path):\n",
        "  with open(anchors_path) as f:\n",
        "    anchors = [float(x) for x in anchors.split(',')]\n",
        "    anchors = np.array(anchors).reshape(-1, 2)\n",
        "  return anchors\n",
        "  \n",
        "def generate_colors(class_names):\n",
        "  hsv_tuples = [(x / len(class_names),1.,1.) for x in range(len(class_names))]\n",
        "  colors = list(map(lambda x: colorsys.hsv_to_rgb(*x), hsv_tuples))\n",
        "  random.seed(0)\n",
        "  random.shuffle(colors)\n",
        "  random.seed(None)\n",
        "  return colors\n",
        "\n",
        "def scale_boxes(boxes, image_shape):\n",
        "  height = image_shape[0]\n",
        "  width = image_shape[1]\n",
        "  image_dims = K.stack([height, width, height, width])\n",
        "  image_dims = K.reshape(image_dims, [1, 4])\n",
        "  boxes = boxes * image_dims\n",
        "  return boxes\n",
        "\n",
        "def preprocess_image(image_path, model_image_size):\n",
        "  image_type = imghdr.what(img_path)\n",
        "  image = Image.open(img_path)\n",
        "  resized_image = image.resize(tuple(reversed(model_image_size)), Image.BICUBIC)\n",
        "  image_data = np.array(resized_image, dtype = 'float32')\n",
        "  image_data /= 255.\n",
        "  image_data = np.expand_dims(image_data, 0) # Add batch dimesion\n",
        "  return image, image_data\n",
        "\n",
        "def draw_boxes(image, out_scores, out_boxes, out_classes, class_names, colors):\n",
        "  \n",
        "  font = ImageFont.truetype(font = 'font/FiraMono-Medium.otf', size=np.floor(3e-2 * image.size[1] + 0.5).astype('int32'))\n",
        "  thickness = (image.size[0] + image.size[1]) // 300\n",
        "  \n",
        "  for i, c in reversed(list(enumerate(out_classes))):\n",
        "    predicted_class = class_names[c]\n",
        "    box = out_boxes[i]\n",
        "    score = out_scores[i]\n",
        "    \n",
        "    label = '{} {:.2f}'.format(predicted_class, score)\n",
        "    draw = ImageDraw.Draw(image)\n",
        "    label_size = draw.textsize(label, font)\n",
        "    \n",
        "    top, left, bottom, right = box\n",
        "    top = max(0, np.floor(top + 0.5).astype('int32'))\n",
        "    left = max(0, np.floor(left + 0.5).astype('int32'))\n",
        "    bottom = min(image.size[1], np.floor(bottom + 0.5).astype('int32'))\n",
        "    right = min(image.size[0], np.floor(right + 0.5).astype('int32'))\n",
        "    print(label, (left, top), (right, bottom))\n",
        "    \n",
        "    if top - label_size[1] >= 0:\n",
        "      text_origin = np.array([left, top - label_size[1]])\n",
        "    else:\n",
        "      text_origin = np.array([left, top + 1])\n",
        "      \n",
        "    for i in range(thickness):\n",
        "      draw.rectangle([left + i, top + i, right - i, bottom - i], outline = colors[c])\n",
        "    \n",
        "    draw.rectange([tuple(text_origin), tuple(text_origin + label_sie)], fill = colors[c])\n",
        "    draw.text(text_origin, label, fill = (0, 0, 0), font = font)\n",
        "    del draw\n",
        "      \n",
        "  "
      ],
      "execution_count": 0,
      "outputs": []
    },
    {
      "cell_type": "code",
      "metadata": {
        "id": "Oj2AjSLuxfpU",
        "colab_type": "code",
        "colab": {}
      },
      "source": [
        "def yolo_filter_boxes(box_confidence, boxes, box_class_probs, threshold = .6):\n",
        "  \n",
        "  box_scores = box_confidence * box_class_probs\n",
        "  box_classes = K.argmax(box_scores, axis = -1)\n",
        "  box_classes_scores = K.max(box_scores, axis = -1)\n",
        "  filtering_mask = box_class_scores > threshold\n",
        "  scores = tf.boolean_mask(box_class_scores, filtering_mask)\n",
        "  boxes = tf.boolean_mask(boxes, filtering_mask)\n",
        "  classes = box_classes[filtering_mask]\n",
        "  \n",
        "  return scores, boxes, classes"
      ],
      "execution_count": 0,
      "outputs": []
    },
    {
      "cell_type": "code",
      "metadata": {
        "id": "3oU1HdZFywKX",
        "colab_type": "code",
        "colab": {}
      },
      "source": [
        "def iou(box1, box2):\n",
        "  xi1 = max(box1[0], box2[0])\n",
        "  yi1 = max(box1[1], box2[1])\n",
        "  xi2 = min(box1[2], box2[2])\n",
        "  yi2 = min(box1[3], box2[3])\n",
        "  inter_area = max(xi2 - xi1, 0) * max(yi2 - yi1, 0)\n",
        "  box1_area = (box1[2] - box1[0]) * (box1[3] - box1[1])\n",
        "  box2_area = (box2[2] - box2[0]) * (box2[3] - box2[1])\n",
        "  union_area = box1_area + box2_area - inter_area\n",
        "  iou = inter_area / union_area\n",
        "  return iou"
      ],
      "execution_count": 0,
      "outputs": []
    },
    {
      "cell_type": "code",
      "metadata": {
        "id": "CBB8PbrmaPZ2",
        "colab_type": "code",
        "colab": {}
      },
      "source": [
        "def yolo_non_max_suppression(scores, boxes, classes, max_boxes = 10, iou_threshold = 0.5):\n",
        "  max_boxes_tensor = K.variable(max_boxes, dtype='int32')\n",
        "  K.get_session().run(tf.variables_initializer([max_boxes_tensor]))\n",
        "  nms_indices = tf.image.non_max_suppression(boxes, scores, max_boxes, iou_threshold)\n",
        "  scores = K.gather(scores,nms_indices)\n",
        "  boxes = K.gather(boxes,nms_indices)\n",
        "  classes = K.gather(classes,nms_indices)\n",
        "  return scores, boxes, classes\n",
        "  "
      ],
      "execution_count": 0,
      "outputs": []
    },
    {
      "cell_type": "code",
      "metadata": {
        "id": "3zHMuc5baS1K",
        "colab_type": "code",
        "colab": {}
      },
      "source": [
        "def yolo_eval(yolo_outputs, image_shape = (720., 1280), max_boxes = 10, score_threshold = .6, iou_threshold = .5):\n",
        "  box_confidence, box_xy, box_wh, box_class_probs = yolo_outputs\n",
        "  boxes = yolo_boxes_to_corners(box_xy, box_wh)\n",
        "  scores, boxes, classes = yolo_filter_boxes(box_confidence, boxes, box_class_probs, iou_threshold)\n",
        "  boxes = scale_boxes(boxes, image_shape)\n",
        "  score, boxes, classes = yolo_non_max_suppression(scores, boxes, classes, iou_threshold)\n",
        "  return scores, boxes,classes\n",
        "  "
      ],
      "execution_count": 0,
      "outputs": []
    },
    {
      "cell_type": "code",
      "metadata": {
        "id": "fBVeu2u6dwhW",
        "colab_type": "code",
        "colab": {}
      },
      "source": [
        "sess = K.get_session()\n",
        "class_names = read_classes(\"model_data/coco_classes.txt\")\n",
        "anchors = read_anchors(\"model_data/yolo_anchors.txt\")\n",
        "image_shape = (720., 1280.)"
      ],
      "execution_count": 0,
      "outputs": []
    },
    {
      "cell_type": "code",
      "metadata": {
        "id": "kJzK3wsjH0nF",
        "colab_type": "code",
        "colab": {
          "base_uri": "https://localhost:8080/",
          "height": 162
        },
        "outputId": "718a8ec8-5dd5-492b-e865-01ed4e071e04"
      },
      "source": [
        "yolo_model = load_model(\"model_data/yolo.h5\")"
      ],
      "execution_count": 44,
      "outputs": [
        {
          "output_type": "error",
          "ename": "NameError",
          "evalue": "ignored",
          "traceback": [
            "\u001b[0;31m---------------------------------------------------------------------------\u001b[0m",
            "\u001b[0;31mNameError\u001b[0m                                 Traceback (most recent call last)",
            "\u001b[0;32m<ipython-input-44-ed19fdfccec8>\u001b[0m in \u001b[0;36m<module>\u001b[0;34m()\u001b[0m\n\u001b[0;32m----> 1\u001b[0;31m \u001b[0myolo_model\u001b[0m \u001b[0;34m=\u001b[0m \u001b[0mload_model\u001b[0m\u001b[0;34m(\u001b[0m\u001b[0;34m\"model_data/yolo.h5\"\u001b[0m\u001b[0;34m)\u001b[0m\u001b[0;34m\u001b[0m\u001b[0;34m\u001b[0m\u001b[0m\n\u001b[0m",
            "\u001b[0;31mNameError\u001b[0m: name 'load_model' is not defined"
          ]
        }
      ]
    },
    {
      "cell_type": "code",
      "metadata": {
        "id": "-UuWH2XdH6PD",
        "colab_type": "code",
        "colab": {}
      },
      "source": [
        "yolo_model.summary()"
      ],
      "execution_count": 0,
      "outputs": []
    },
    {
      "cell_type": "code",
      "metadata": {
        "id": "4zz01Xq7ISsg",
        "colab_type": "code",
        "colab": {}
      },
      "source": [
        "yolo_output = yolo_head(yolo_model.output, anchors, len(classes))"
      ],
      "execution_count": 0,
      "outputs": []
    },
    {
      "cell_type": "code",
      "metadata": {
        "id": "zMRtLDaeIaCP",
        "colab_type": "code",
        "colab": {}
      },
      "source": [
        "scores, boxes, classes = yolo_eval(yolo_outputs, image_shape)"
      ],
      "execution_count": 0,
      "outputs": []
    },
    {
      "cell_type": "code",
      "metadata": {
        "id": "tgD64kKKIgxi",
        "colab_type": "code",
        "colab": {}
      },
      "source": [
        "def predict(sess, image_file):\n",
        "  image, image_data = preprocess_image(\"images/\" + image_file, model_image_size = (608, 608))\n",
        "  out_scores, out_boxes, out_classes = sess.run([scores, boxes,classes], feed_dict = {yolo_model.input: image_data, K.learning_phase(): 0})\n",
        "  print('Found {} boxes for {}'.format(len(out_boxes), image_file))\n",
        "  colors = generate_colors(class_names)\n",
        "  draw_boxes(image, out_scores, out_boxes, out_classes, class_names, colors)\n",
        "  image.save(os.path.join(\"out\", image_file), quality = 90)\n",
        "  output_image = scipy.misc.imread(os.path.join(\"out\", image_file))\n",
        "  imshow(output_image)\n",
        "  return out_scores, out_boxes, out_classes"
      ],
      "execution_count": 0,
      "outputs": []
    },
    {
      "cell_type": "code",
      "metadata": {
        "id": "IWVK21M4OQK2",
        "colab_type": "code",
        "colab": {}
      },
      "source": [
        "out_scores, out_boxes, out_classes = predict(sess, \"test.jpg\")"
      ],
      "execution_count": 0,
      "outputs": []
    }
  ]
}